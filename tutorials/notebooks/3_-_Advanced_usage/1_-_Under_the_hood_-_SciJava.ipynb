{
 "cells": [
  {
   "cell_type": "markdown",
   "metadata": {},
   "source": [
    "# Under the hood: SciJava"
   ]
  },
  {
   "cell_type": "markdown",
   "metadata": {},
   "source": [
    "This notebook dives into technical details of the SciJava Common library upon which ImageJ2 is built.\n",
    "\n",
    "It is recommended that you first read and understand the <a href=\"../1_-_Using_ImageJ/1_-_Fundamentals_of_ImageJ.ipynb\">Fundamentals of ImageJ</a> notebook before tackling this one.\n",
    "\n",
    "Let's get started by discussing a little bit about the [Architecture](http://imagej.net/Architecture) of ImageJ."
   ]
  },
  {
   "cell_type": "markdown",
   "metadata": {},
   "source": [
    "## The ImageJ software stack"
   ]
  },
  {
   "cell_type": "markdown",
   "metadata": {},
   "source": [
    "The [ImageJ software stack](http://imagej.net/Architecture#Core_libraries) is composed of the following core libraries:\n",
    "\n",
    "<div style=\"float: right\"><img src=\"http://imagej.net/_images/0/03/Architecture_digraph_libs_dot.png\" width=\"75%\"></div>\n",
    "\n",
    "* [SciJava Common](http://imagej.net/SciJava_Common) - The SciJava application container and plugin framework.\n",
    "* [ImgLib2](http://imagej.net/ImgLib2) - The N-dimensional image data model.\n",
    "* [ImageJ Common](http://imagej.net/ImageJ_Common) - Metadata-rich image data structures and SciJava extensions.\n",
    "* [ImageJ Ops](http://imagej.net/ImageJ_Ops) - The framework for reusable image processing operations.\n",
    "* [SCIFIO](http://imagej.net/SCIFIO) - The framework for N-dimensional image I/O.\n",
    "\n",
    "These libraries form the basis of ImageJ-based software.\n",
    "\n",
    "<div style=\"clear: left\"></div>\n",
    "\n",
    "Important design goals of ImageJ include:\n",
    "\n",
    "* __Modularity.__ ImageJ libraries provide a good [separation of concerns](https://en.wikipedia.org/wiki/Separation_of_concerns). Developers in need of specific functionality may depend on only those components which are relevant, rather than needing to add a dependency to the entire ImageJ software stack.\n",
    "\n",
    "* __UI agnosticm.__ The core libraries take great pains to be _UI agnostic_ with no dependencies on packages such as `java.awt` or `javax.swing`. It should be possible to build a [user interface](https://en.wikipedia.org/wiki/Graphical_user_interface) (UI) on top of the core libraries without needing to change the library code itself. There are several proof-of-concept UIs for ImageJ using different UI frameworks, including [Swing](https://github.com/imagej/imagej-ui-swing), [AWT](https://github.com/imagej/imagej-ui-awt), [Apache Pivot](https://github.com/scijava/scijava-ui-pivot) and [JavaFX](https://github.com/cmongis/imagejfx).\n",
    "\n",
    "* __Extensibility.__ ImageJ provides many different types of plugins, and it is possible to extend the system with your own new types of plugins. See the \"Extending ImageJ\" tutorials for details.\n",
    "\n",
    "For further details, see the [Architecture](https://imagej.net/Architecture) page."
   ]
  },
  {
   "cell_type": "markdown",
   "metadata": {},
   "source": [
    "## SciJava plugins"
   ]
  },
  {
   "cell_type": "markdown",
   "metadata": {},
   "source": [
    "First and foremost, [SciJava Common](http://imagej.net/SciJava_Common) is a plugin framework—a base for developing highly modular and extensible Java applications.  All plugins available on Java's classpath are automatically discovered and made available. This is accomplished by scanning classpath resources for the file path <code>META-INF/json/org.scijava.plugin.Plugin</code>. Such files are generated at compile time by a Java annotation processor that writes them in response to <code>@Plugin</code> annotations on Java classes.\n",
    "\n",
    "For example, here is the metadata describing plugins of the `net.imagej:imagej` artifact itself:"
   ]
  },
  {
   "cell_type": "code",
   "execution_count": 1,
   "metadata": {
    "collapsed": false
   },
   "outputs": [
    {
     "data": {
      "text/plain": [
       "{\"class\":\"net.imagej.ImageJ\",\"values\":{\"type\":\"org.scijava.Gateway\"}}\n",
       "{\"class\":\"net.imagej.app.ToplevelImageJApp\",\"values\":{\"name\":\"ImageJ\",\"priority\":101.0,\"type\":\"org.scijava.app.App\"}}"
      ]
     },
     "execution_count": 1,
     "metadata": {},
     "output_type": "execute_result"
    }
   ],
   "source": [
    "net.imagej.ImageJ.class.getResource(\"/META-INF/json/org.scijava.plugin.Plugin\").\n",
    "    openStream().getText().replaceAll(\"\\\\}\\\\{\", \"}\\n{\")"
   ]
  },
  {
   "cell_type": "markdown",
   "metadata": {},
   "source": [
    "This metadata aligns precisely with the `@Plugin` declarations in `ImageJ.java` and `ToplevelImageJApp.java`, respectively:\n",
    "    \n",
    "```java\n",
    "@Plugin(type = Gateway.class)\n",
    "public class ImageJ extends AbstractGateway\n",
    "\n",
    "@Plugin(type = App.class, name = ImageJApp.NAME,\n",
    "\tpriority = ImageJApp.PRIORITY + 1)\n",
    "public class ToplevelImageJApp extends ImageJApp\n",
    "```"
   ]
  },
  {
   "cell_type": "markdown",
   "metadata": {},
   "source": [
    "### Comparison with ImageJ 1.x\n",
    "\n",
    "Here is a \"cheat sheet\" listing the available plugin types of ImageJ 1.x, and their ImageJ2 counterparts:\n",
    "\n",
    "<table style=\"text-align: left !important\">\n",
    "<tr>\n",
    "<th style=\"text-align: center; vertical-align: bottom\">Plugin type</th>\n",
    "<th style=\"text-align: center\"><img src=\"https://imagej.net/_images/a/a8/Imagej1-icon.png\" width=\"48\"> ImageJ 1.x</th>\n",
    "<th style=\"text-align: center\"><img src=\"https://imagej.net/_images/d/d1/Imagej2-icon.png\" width=\"48\"> ImageJ2</th>\n",
    "</tr>\n",
    "<tr>\n",
    "<td>General-purpose command</td>\n",
    "<td><code>ij.plugin.PlugIn</code></td>\n",
    "<td><code>net.imagej.command.Command</code></td>\n",
    "</tr>\n",
    "<tr>\n",
    "<td>Image processing operation</td>\n",
    "<td><code>ij.plugin.filter.PlugInFilter</code></td>\n",
    "<td><code>net.imagej.ops.Op</code></td>\n",
    "</tr>\n",
    "<tr>\n",
    "<td>Tool (toolbar icon + behavior)</td>\n",
    "<td><code>ij.plugin.tool.PlugInTool</code></td>\n",
    "<td><code>net.imagej.tool.Tool</code></td>\n",
    "</tr>\n",
    "<tr>\n",
    "<td>File format reader/writer</td>\n",
    "<td><code>ij.plugin.PlugIn</code> + <code>HandleExtraFileTypes</code></td>\n",
    "<td><code>org.scijava.io.IOPlugin</code></td>\n",
    "</tr>\n",
    "</table>\n",
    "\n",
    "There are many other SciJava and ImageJ2 plugin types; see <a href=\"../1_-_Using_ImageJ/1_-_Fundamentals_of_ImageJ.ipynb#Complete-list-of-built-in-plugin-types\">Fundamentals of ImageJ</a> for a complete list."
   ]
  },
  {
   "cell_type": "markdown",
   "metadata": {},
   "source": [
    "## The SciJava `Context`"
   ]
  },
  {
   "cell_type": "markdown",
   "metadata": {},
   "source": [
    "Everything in a SciJava application is unified by a single `org.scijava.Context` object: a collection of `Service` plugins, each of which provide [API](https://en.wikipedia.org/wiki/Application_programming_interface) and holds local state information. The `Context` keeps track of the currently available _plugins_ and _services_.\n",
    "\n",
    "Each application is responsible for creating its own `Context` to manage plugins and contextual state.\n",
    "\n",
    "In SciJava notebooks such as this one, a `Context` already exists, so there is no need to create another one. The `#@parameter` syntax of scripts can be used to request a `Service`, `Context` or `Gateway`. For example, consider the following familiar cell:"
   ]
  },
  {
   "cell_type": "code",
   "execution_count": 2,
   "metadata": {
    "collapsed": false
   },
   "outputs": [
    {
     "data": {
      "text/html": [
       "class net&#8203;.imagej&#8203;.ImageJ"
      ]
     },
     "execution_count": 2,
     "metadata": {},
     "output_type": "execute_result"
    }
   ],
   "source": [
    "#@ImageJ ij\n",
    "\n",
    "// Behind a firewall? Configure your proxy settings here.\n",
    "//System.setProperty(\"http.proxyHost\",\"myproxy.domain\")\n",
    "//System.setProperty(\"http.proxyPort\",\"8080\")\n",
    "\n",
    "ij.getClass()"
   ]
  },
  {
   "cell_type": "markdown",
   "metadata": {},
   "source": [
    "The cell above requests that the variable `ij` be initialized with a `Gateway` plugin wrapping the existing SciJava `Context`.\n",
    "\n",
    "But you can also obtain the `Context` itself directly:"
   ]
  },
  {
   "cell_type": "code",
   "execution_count": 3,
   "metadata": {
    "collapsed": false
   },
   "outputs": [
    {
     "data": {
      "text/html": [
       "class org&#8203;.scijava&#8203;.Context"
      ]
     },
     "execution_count": 3,
     "metadata": {},
     "output_type": "execute_result"
    }
   ],
   "source": [
    "#@Context ctx\n",
    "ctx.getClass()"
   ]
  },
  {
   "cell_type": "markdown",
   "metadata": {},
   "source": [
    "The `Context` keeps two very central data structures: a `PluginIndex` and a `ServiceIndex`:"
   ]
  },
  {
   "cell_type": "code",
   "execution_count": 4,
   "metadata": {
    "collapsed": false
   },
   "outputs": [
    {
     "data": {
      "text/html": [
       "\n",
       "There are 1506 plugins,\n",
       "93 of which are services&#8203;.\n"
      ]
     },
     "execution_count": 4,
     "metadata": {},
     "output_type": "execute_result"
    }
   ],
   "source": [
    "\"\"\"\n",
    "There are ${ctx.getPluginIndex().size()} plugins,\n",
    "${ctx.getServiceIndex().size()} of which are services.\n",
    "\"\"\""
   ]
  },
  {
   "cell_type": "markdown",
   "metadata": {},
   "source": [
    "The above is an extensible and type-safe way to access services, even if it is marginally less elegant than some equivalent alternatives:\n",
    "```groovy\n",
    "#@EventService eventService\n",
    "```\n",
    "Or:\n",
    "```groovy\n",
    "ij.event()\n",
    "```"
   ]
  },
  {
   "cell_type": "markdown",
   "metadata": {},
   "source": [
    "## Requesting services"
   ]
  },
  {
   "cell_type": "markdown",
   "metadata": {},
   "source": [
    "Here are four ways to request services.\n",
    "\n",
    "### 1. Retrieve it from the context via `service`"
   ]
  },
  {
   "cell_type": "code",
   "execution_count": 5,
   "metadata": {
    "collapsed": false
   },
   "outputs": [
    {
     "data": {
      "text/html": [
       "org&#8203;.scijava&#8203;.event&#8203;.DefaultEventService [priority = 100000&#8203;.0]"
      ]
     },
     "execution_count": 5,
     "metadata": {},
     "output_type": "execute_result"
    }
   ],
   "source": [
    "ctx.service(org.scijava.event.EventService.class)"
   ]
  },
  {
   "cell_type": "markdown",
   "metadata": {},
   "source": [
    "If the service does not exist, `service` throws `NoSuchServiceException`."
   ]
  },
  {
   "cell_type": "markdown",
   "metadata": {},
   "source": [
    "### 2. Retrieve it from the context via `getService`"
   ]
  },
  {
   "cell_type": "code",
   "execution_count": 17,
   "metadata": {
    "collapsed": false
   },
   "outputs": [
    {
     "data": {
      "text/html": [
       "org&#8203;.scijava&#8203;.event&#8203;.DefaultEventService [priority = 100000&#8203;.0]"
      ]
     },
     "execution_count": 17,
     "metadata": {},
     "output_type": "execute_result"
    }
   ],
   "source": [
    "ctx.getService(org.scijava.event.EventService.class)"
   ]
  },
  {
   "cell_type": "markdown",
   "metadata": {},
   "source": [
    "If the service does not exist, `getService` returns `null`."
   ]
  },
  {
   "cell_type": "markdown",
   "metadata": {},
   "source": [
    "### 3. Declare a `#@` script parameter"
   ]
  },
  {
   "cell_type": "code",
   "execution_count": 19,
   "metadata": {
    "collapsed": false
   },
   "outputs": [
    {
     "data": {
      "text/html": [
       "org&#8203;.scijava&#8203;.event&#8203;.DefaultEventService [priority = 100000&#8203;.0]"
      ]
     },
     "execution_count": 19,
     "metadata": {},
     "output_type": "execute_result"
    }
   ],
   "source": [
    "#@EventService eventService\n",
    "eventService"
   ]
  },
  {
   "cell_type": "markdown",
   "metadata": {},
   "source": [
    "If no such service is available, an exception will be thrown."
   ]
  },
  {
   "cell_type": "markdown",
   "metadata": {},
   "source": [
    "### 4. Annotate a field with `@Parameter`"
   ]
  },
  {
   "cell_type": "markdown",
   "metadata": {},
   "source": [
    "Typically, ImageJ plugin developers will be writing `Service` and/or `Command` plugins. If you need to use another plugin—for example, the `LogService`—you should not manually create it as this effectively disconnects you from your `Context`. Instead, you should ask your `Context` for an instance by adding a field of the desired type and annotating it with the `@Parameter` annotation. For example:"
   ]
  },
  {
   "cell_type": "code",
   "execution_count": 31,
   "metadata": {
    "collapsed": false
   },
   "outputs": [
    {
     "data": {
      "text/html": [
       "MyPlugin"
      ]
     },
     "execution_count": 31,
     "metadata": {},
     "output_type": "execute_result"
    }
   ],
   "source": [
    "import org.scijava.command.Command\n",
    "import org.scijava.log.LogService\n",
    "import org.scijava.plugin.Parameter\n",
    "import org.scijava.plugin.Plugin\n",
    "\n",
    "@Plugin(type = Command.class)\n",
    "public class MyPlugin implements Command {\n",
    " \n",
    "  // This @Parameter notation is 'asking' the Context\n",
    "  // for an instance of LogService.\n",
    "  @Parameter\n",
    "  private LogService log\n",
    "  \n",
    "  @Parameter\n",
    "  private String message\n",
    " \n",
    "  @Override\n",
    "  public void run() {\n",
    "    // Just use the LogService!\n",
    "    // There is no need to construct it, since the Context\n",
    "    // has already provided an appropriate instance.\n",
    "    log.info(message)\n",
    "  }\n",
    "}\n",
    "\n",
    "// Save a reference to the class for later.\n",
    "myPluginClass = MyPlugin.class\n",
    "\n",
    "// TODO: Figure out why the log message in this command is swallowed.\n",
    "// Execute our sample command.\n",
    "ij.command().run(MyPlugin.class, true, \"message\", \"Success!\").get()"
   ]
  },
  {
   "cell_type": "markdown",
   "metadata": {},
   "source": [
    "This will allow the <code>Context</code> to provide you with—i.e., [inject](https://en.wikipedia.org/wiki/Dependency_injection)—the appropriate instance of your requested service."
   ]
  },
  {
   "cell_type": "markdown",
   "metadata": {},
   "source": [
    "In some rare cases, manual plugin construction is unavoidable. Understand that if the <code>MyPlugin</code> class above is manually constructed—i.e. via <code>new MyPlugin()</code>—the <code>LogService</code> parameter will be <code>null</code>. Automatic population only occurs if the plugin instance itself is retrieved via the framework. When you must manually construct a plugin instance, you can still re-connect it to an existing <code>Context</code> via its injection mechanism:"
   ]
  },
  {
   "cell_type": "code",
   "execution_count": 9,
   "metadata": {
    "collapsed": false
   },
   "outputs": [
    {
     "data": {
      "text/html": [
       "MyService"
      ]
     },
     "execution_count": 9,
     "metadata": {},
     "output_type": "execute_result"
    }
   ],
   "source": [
    "import org.scijava.plugin.Plugin\n",
    "import org.scijava.Context;\n",
    "import org.scijava.plugin.Parameter\n",
    "import org.scijava.command.Command\n",
    "\n",
    "@Plugin(type = Command.class)\n",
    "public class MyService implements Command {\n",
    " \n",
    "  // This service will manually create plugin instances.\n",
    "  // So, we need a reference to our containing Context,\n",
    "  // then we can use it to inject our plugins.\n",
    "  @Parameter\n",
    "  private Context context\n",
    "  \n",
    "  @Override\n",
    "  public void run() {\n",
    "    // Manually create a plugin instance.\n",
    "    // It is not connected to a Context yet\n",
    "    MyPlugin plugin = new MyPlugin()\n",
    " \n",
    "    // Inject the plugin instance with our Context.\n",
    "    context.inject(plugin)\n",
    " \n",
    "    // Now that our plugin is injected, we can use\n",
    "    // it with the knowledge that its parameters\n",
    "    // have been populated.\n",
    "    plugin.run() // but message is still null\n",
    "  }\n",
    "}\n",
    "\n",
    "// executing our sample command\n",
    "ij.command().run(MyService.class, true).get()"
   ]
  },
  {
   "cell_type": "markdown",
   "metadata": {},
   "source": [
    "## Services"
   ]
  },
  {
   "cell_type": "markdown",
   "metadata": {},
   "source": [
    "[Services](http://imagej.net/SciJava_Common#Services) are—surprise!—SciJava Plugins. Just like plugins, there are Service interfaces and implementing classes. This allows a proper separation between the Service's public contract and the details of its implementation.\n",
    "\n",
    "Services are defined as interfaces, with concrete implementations as plugins. This design provides [seams](http://c2.com/cgi/wiki?SoftwareSeam) in the right places so that behavior at every level can be customized and overridden.\n",
    "\n",
    "Services provide two important functions to the SciJava framework: utility methods and persistent state. If you want to add reusable Java methods that can be used throughout the SciJava framework, then you should create a <code>Service</code> to provide this functionality. If you need to track Context-wide variables or configuration, a <code>Service</code> should be used to encapsulate that state.\n",
    "\n",
    "Conceptually, a <code>Service</code> satisfies the role of [static utility classes](https://en.wikipedia.org/wiki/Utility_class) on a per-Context basis. In this way, only one [instance](http://math.hws.edu/javanotes/c5/s1.html ) of each <code>Service</code> class can be associated with a given <code>Context</code> instance; an association that occurs automatically during <code>Context</code> creation. Furthermore, when a <code>Context</code> is asked for an implementation of a given <code>Service</code>, only the highest priority instance will be returned.\n",
    "\n",
    "Services often build on or reuse functionality defined in each other. For example, the <code>PluginService</code> sees ubiquitous use in retrieving and working with plugin instances. For such reuse, <code>@Parameter</code> annotation can be used to declare inter-service requirements. During <code>Context</code> startup, these relationships will be resolved automatically."
   ]
  },
  {
   "cell_type": "code",
   "execution_count": 10,
   "metadata": {
    "collapsed": false
   },
   "outputs": [
    {
     "data": {
      "text/plain": [
       "HelloService ready"
      ]
     },
     "execution_count": 10,
     "metadata": {},
     "output_type": "execute_result"
    }
   ],
   "source": [
    "import org.scijava.service.SciJavaService\n",
    "import org.scijava.service.Service\n",
    "import org.scijava.service.AbstractService\n",
    "import org.scijava.app.StatusService\n",
    "import org.scijava.plugin.Plugin\n",
    "import org.scijava.plugin.Parameter\n",
    "\n",
    "// Example Service Interface:\n",
    "public interface HelloService extends SciJavaService {\n",
    "  public void sayHello()\n",
    "}\n",
    "\n",
    "// Example implementation:\n",
    "@Plugin(type = Service.class)\n",
    "public class DefaultHelloService extends AbstractService implements HelloService {\n",
    "\n",
    "  @Parameter\n",
    "  private StatusService status\n",
    "\n",
    "  @Override\n",
    "  public void initialize() {\n",
    "          // initialize as little as possible here\n",
    "  }\n",
    "\n",
    "  @Override\n",
    "  public void sayHello() {\n",
    "          status.showStatus(\"Howdy!\")\n",
    "  }\n",
    "}\n",
    "\n",
    "\"HelloService ready\""
   ]
  },
  {
   "cell_type": "markdown",
   "metadata": {},
   "source": [
    "## Commands"
   ]
  },
  {
   "cell_type": "markdown",
   "metadata": {},
   "source": [
    "Whereas `Service`s provide internal functionality, `Command`s are plugins designed to be executed as one-offs, typically interacting with users to achieve some desired outcome. When opening the ImageJ GUI, Commands are what populate your menu structure: exposing functionality and algorithms in a way that can be consumed by non-developers.\n",
    "\n",
    "When writing `Command`s you will often declare `@Parameter`s on fields that _cannot_ be resolved automatically by the `Context`—for example, numeric values or file paths. Instead of being instantiated at `Context` startup as a `Service` would be, `Command`s are created and executed on demand.\n",
    "\n",
    "When a `Command` is executed, it goes through a series of pre-processing steps to populate its `@Parameter`s using its associated `Context`. If any parameters are left unresolved and a UI is available, the framework will automatically build and display an appropriate dialog to get user input. In this way, input harvesting is decoupled from functional operation—allowing developers to focus on what's really important without repetition of code. This also means that `Command`s can typically run [headlessly](http://imagej.net/Headless) without any extra development effort.\n",
    "\n",
    "A common pattern in `Command` development is to wrap `Service` functionality. For example, opening an image from a path is a fundamental operation in ImageJ. To this end, developers can directly use the `DatasetIOService`. Users then get this same functionality from the menus via the `OpenDataset` command—which itself simply calls into the `DatasetIOService`.\n"
   ]
  },
  {
   "cell_type": "markdown",
   "metadata": {},
   "source": [
    "## Gateways"
   ]
  },
  {
   "cell_type": "markdown",
   "metadata": {},
   "source": [
    "A `Gateway` is a plugin intended to make life easier for developers. It wraps a `Context`, offering type-safe access to core services. Everything you can do with a gateway you can also do without it—but the gateway object makes the API much more succinct and convenient.\n",
    "\n",
    "Each major layer of the ImageJ software stack has its own `Gateway`:"
   ]
  },
  {
   "cell_type": "code",
   "execution_count": 11,
   "metadata": {
    "collapsed": false
   },
   "outputs": [
    {
     "data": {
      "text/html": [
       "<style>table.converted {color: #333; font-family: Helvetica, Arial, sans-serif; border-collapse: collapse; border-spacing: 0;}table.converted td, table.converted th {border: 1px solid #C9C7C7;}table.converted th, table.converted td.rowLabel {background: #626262; color: #FFFFFF; font-weight: bold; text-align: left;}table.converted td {text-align: left;}table.converted tr:nth-child(even) {background: #F3F3F3;}table.converted tr:nth-child(odd) {background: #FFFFFF;}table.converted tbody tr:hover {background: #BDF4B5;}table.converted td.rowLabel, table.converted th.rowLabel {display: none;}</style><table class =\"converted\"><thead><tr><th>Class</th><th>Location</th></tr></thead><tbody><tr><td>io&#8203;.scif&#8203;.SCIFIO</td><td>scifio-0&#8203;.32&#8203;.0&#8203;.jar</td></tr><tr><td>net&#8203;.imagej&#8203;.ImageJ</td><td>imagej-2&#8203;.0&#8203;.0-rc-61&#8203;.jar</td></tr><tr><td>org&#8203;.scijava&#8203;.SciJava</td><td>scijava-common-2&#8203;.64&#8203;.0&#8203;.jar</td></tr></tbody></table>"
      ]
     },
     "execution_count": 11,
     "metadata": {},
     "output_type": "execute_result"
    }
   ],
   "source": [
    "ij.plugin().getPluginsOfType(org.scijava.Gateway.class).stream().map{info -> [\n",
    "    \"Class\": info.loadClass().getName(),\n",
    "    \"Location\": info.getLocation().replaceAll('.*/(.*\\\\.jar)$', '$1')\n",
    "]}.collect()"
   ]
  },
  {
   "cell_type": "markdown",
   "metadata": {},
   "source": [
    "TODO: corresponding service marker interfaces: `SciJavaService`, `ImageJService`, `SCIFIOService`"
   ]
  },
  {
   "cell_type": "code",
   "execution_count": 12,
   "metadata": {
    "collapsed": false
   },
   "outputs": [
    {
     "data": {
      "text/html": [
       "<style>table.converted {color: #333; font-family: Helvetica, Arial, sans-serif; border-collapse: collapse; border-spacing: 0;}table.converted td, table.converted th {border: 1px solid #C9C7C7;}table.converted th, table.converted td.rowLabel {background: #626262; color: #FFFFFF; font-weight: bold; text-align: left;}table.converted td {text-align: left;}table.converted tr:nth-child(even) {background: #F3F3F3;}table.converted tr:nth-child(odd) {background: #FFFFFF;}table.converted tbody tr:hover {background: #BDF4B5;}table.converted td.rowLabel, table.converted th.rowLabel {display: none;}</style><table class =\"converted\"><thead><tr><th>Key</th><th>Value</th></tr></thead><tbody><tr><td>Plugin count</td><td>1506</td></tr><tr><td>Module count</td><td>1096</td></tr><tr><td>Service count</td><td>93</td></tr><tr><td>SciJava version</td><td>2&#8203;.64&#8203;.0</td></tr><tr><td>Where is SciJava?</td><td>file:/Users/curtis/anaconda3/envs/java&#8203;_env/opt/scijava-jupyter-kernel/scijava-common-2&#8203;.64&#8203;.0&#8203;.jar</td></tr></tbody></table>"
      ]
     },
     "execution_count": 12,
     "metadata": {},
     "output_type": "execute_result"
    }
   ],
   "source": [
    "// Ask for a SciJava gateway.\n",
    "#@SciJava sj\n",
    "\n",
    "// Now bask in the convenience!\n",
    "import org.scijava.service.Service\n",
    "[\n",
    "    \"Plugin count\"      : sj.plugin().getPlugins().size(),\n",
    "    \"Module count\"      : sj.module().getModules().size(),\n",
    "    \"Service count\"     : sj.plugin().getPluginsOfType(Service.class).size(),\n",
    "    \"SciJava version\"   : sj.getVersion(),\n",
    "    \"Where is SciJava?\" : sj.getApp().getLocation()\n",
    "]"
   ]
  },
  {
   "cell_type": "code",
   "execution_count": 13,
   "metadata": {
    "collapsed": false
   },
   "outputs": [
    {
     "data": {
      "text/html": [
       "<style>table.converted {color: #333; font-family: Helvetica, Arial, sans-serif; border-collapse: collapse; border-spacing: 0;}table.converted td, table.converted th {border: 1px solid #C9C7C7;}table.converted th, table.converted td.rowLabel {background: #626262; color: #FFFFFF; font-weight: bold; text-align: left;}table.converted td {text-align: left;}table.converted tr:nth-child(even) {background: #F3F3F3;}table.converted tr:nth-child(odd) {background: #FFFFFF;}table.converted tbody tr:hover {background: #BDF4B5;}table.converted td.rowLabel, table.converted th.rowLabel {display: none;}</style><table class =\"converted\"><thead><tr><th>Key</th><th>Value</th></tr></thead><tbody><tr><td>Plugin count</td><td>1506</td></tr><tr><td>Module count</td><td>1096</td></tr><tr><td>Service count</td><td>93</td></tr></tbody></table>"
      ]
     },
     "execution_count": 13,
     "metadata": {},
     "output_type": "execute_result"
    }
   ],
   "source": [
    "// We don't _need_ the gateway; we could use each service directly instead.\n",
    "#@PluginService pluginService\n",
    "#@ModuleService moduleService\n",
    "\n",
    "import org.scijava.service.Service\n",
    "[\n",
    "    \"Plugin count\"      : pluginService.getPlugins().size(),\n",
    "    \"Module count\"      : moduleService.getModules().size(),\n",
    "    \"Service count\"     : pluginService.getPluginsOfType(Service.class).size()\n",
    "]"
   ]
  },
  {
   "cell_type": "markdown",
   "metadata": {},
   "source": [
    "## Other plugins and services"
   ]
  },
  {
   "cell_type": "markdown",
   "metadata": {},
   "source": [
    "Because virtually everything is a plugin in ImageJ, there are too many to explicitly enumerate, let alone cover in a tutorial. To get ideas for functionality that can be added, a good starting point is to look for services in the [javadoc](http://javadoc.imagej.net/), or the [ImageJ search portal](http://search.imagej.net/ ). Many service types have supplemental plugins for easy functional extension. In particular, the [imagej-common](http://imagej.net/ImageJ_Common) and [scijava-common](http://imagej.net/SciJava_Common) repositories will contain plugin definitions for many essential operations.\n",
    "\n",
    "A brief list of some of the more useful plugin types to extend:\n",
    "\n",
    "* <code>Ops</code> provide a reusable set of image processing algorithms.\n",
    "* <code>Image formats</code> allow new types of images to be opened in ImageJ.\n",
    "* <code>Converters</code> allow the framework to interchange types, outside of normal Java class hierarchy restrictions.\n",
    "* <code>Input Preprocessors</code> give you control over the population of <code>@Parameters</code>.\n",
    "* <code>Displays</code> control how UI elements are presented to users.\n",
    "\n",
    "If you know the function you want to modify but can't determine its location in the code, please [ask other developers](http://imagej.net/Help). You're part of the community now!\n"
   ]
  }
 ],
 "metadata": {
  "kernelspec": {
   "display_name": "SciJava",
   "language": "groovy",
   "name": "scijava"
  },
  "language_info": {
   "codemirror_mode": "groovy",
   "file_extension": "",
   "mimetype": "",
   "name": "scijava",
   "nbconverter_exporter": "",
   "pygments_lexer": "groovy",
   "version": "1.0"
  }
 },
 "nbformat": 4,
 "nbformat_minor": 2
}
