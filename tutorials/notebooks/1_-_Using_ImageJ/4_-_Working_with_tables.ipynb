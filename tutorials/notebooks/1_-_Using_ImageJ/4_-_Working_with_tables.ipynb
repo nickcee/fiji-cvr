{
 "cells": [
  {
   "cell_type": "markdown",
   "metadata": {},
   "source": [
    "# Working with tables"
   ]
  },
  {
   "cell_type": "markdown",
   "metadata": {},
   "source": [
    "This notebook covers how to create and use ImageJ's `net.imagej.table` package.\n",
    "\n",
    "It also describes other sorts of tables which the SciJava notebook can render."
   ]
  },
  {
   "cell_type": "code",
   "execution_count": 1,
   "metadata": {
    "collapsed": false
   },
   "outputs": [
    {
     "data": {
      "text/plain": [
       "ImageJ is ready to go."
      ]
     },
     "execution_count": 1,
     "metadata": {},
     "output_type": "execute_result"
    }
   ],
   "source": [
    "#@ImageJ ij\n",
    "\n",
    "// Behind a firewall? Configure your proxy settings here.\n",
    "//System.setProperty(\"http.proxyHost\",\"myproxy.domain\")\n",
    "//System.setProperty(\"http.proxyPort\",\"8080\")\n",
    "\n",
    "\"ImageJ is ready to go.\""
   ]
  },
  {
   "cell_type": "markdown",
   "metadata": {},
   "source": [
    "## SciJava Jupyter notebook tables"
   ]
  },
  {
   "cell_type": "markdown",
   "metadata": {},
   "source": [
    "Before we dive into creating ImageJ `Table` objects, it is helpful to know about the table rendering capabilities of SciJava notebook. If your goal is just to render a table for display in a SciJava notebook like this one, then it can be done using a simple map data structure:"
   ]
  },
  {
   "cell_type": "code",
   "execution_count": 12,
   "metadata": {
    "collapsed": false
   },
   "outputs": [
    {
     "data": {
      "text/html": [
       "<style>table.converted {color: #333; font-family: Helvetica, Arial, sans-serif; border-collapse: collapse; border-spacing: 0;}table.converted td, table.converted th {border: 1px solid #C9C7C7;}table.converted th, table.converted td.rowLabel {background: #626262; color: #FFFFFF; font-weight: bold; text-align: left;}table.converted td {text-align: left;}table.converted tr:nth-child(even) {background: #F3F3F3;}table.converted tr:nth-child(odd) {background: #FFFFFF;}table.converted tbody tr:hover {background: #BDF4B5;}table.converted td.rowLabel, table.converted th.rowLabel {display: none;}</style><table class =\"converted\"><thead><tr><th>Key</th><th>Value</th></tr></thead><tbody><tr><td>apple</td><td>fruit</td></tr><tr><td>orange</td><td>fruit</td></tr><tr><td>broccoli</td><td>vegetable</td></tr><tr><td>milk</td><td>dairy</td></tr><tr><td>yogurt</td><td>dairy</td></tr></tbody></table>"
      ]
     },
     "execution_count": 12,
     "metadata": {},
     "output_type": "execute_result"
    }
   ],
   "source": [
    "[\n",
    "    \"apple\": \"fruit\",\n",
    "    \"orange\": \"fruit\",\n",
    "    \"broccoli\": \"vegetable\",\n",
    "    \"milk\": \"dairy\",\n",
    "    \"yogurt\": \"dairy\"\n",
    "]"
   ]
  },
  {
   "cell_type": "markdown",
   "metadata": {},
   "source": [
    "If you use a list of maps, there will be column headers:"
   ]
  },
  {
   "cell_type": "code",
   "execution_count": 14,
   "metadata": {
    "collapsed": false
   },
   "outputs": [
    {
     "data": {
      "text/html": [
       "<style>table.converted {color: #333; font-family: Helvetica, Arial, sans-serif; border-collapse: collapse; border-spacing: 0;}table.converted td, table.converted th {border: 1px solid #C9C7C7;}table.converted th, table.converted td.rowLabel {background: #626262; color: #FFFFFF; font-weight: bold; text-align: left;}table.converted td {text-align: left;}table.converted tr:nth-child(even) {background: #F3F3F3;}table.converted tr:nth-child(odd) {background: #FFFFFF;}table.converted tbody tr:hover {background: #BDF4B5;}table.converted td.rowLabel, table.converted th.rowLabel {display: none;}</style><table class =\"converted\"><thead><tr><th>Food</th><th>Category</th></tr></thead><tbody><tr><td>apple</td><td>fruit</td></tr><tr><td>orange</td><td>fruit</td></tr><tr><td>broccoli</td><td>vegetable</td></tr><tr><td>milk</td><td>dairy</td></tr><tr><td>yogurt</td><td>dairy</td></tr></tbody></table>"
      ]
     },
     "execution_count": 14,
     "metadata": {},
     "output_type": "execute_result"
    }
   ],
   "source": [
    "[\n",
    "    [\"Food\": \"apple\",    \"Category\": \"fruit\"],\n",
    "    [\"Food\": \"orange\",   \"Category\": \"fruit\"],\n",
    "    [\"Food\": \"broccoli\", \"Category\": \"vegetable\"],\n",
    "    [\"Food\": \"milk\",     \"Category\": \"dairy\"],\n",
    "    [\"Food\": \"yogurt\",   \"Category\": \"dairy\"]\n",
    "]"
   ]
  },
  {
   "cell_type": "markdown",
   "metadata": {},
   "source": [
    "## ImageJ `Table`s"
   ]
  },
  {
   "cell_type": "markdown",
   "metadata": {},
   "source": [
    "### Creating an ImageJ table"
   ]
  },
  {
   "cell_type": "markdown",
   "metadata": {},
   "source": [
    "ImageJ offers a set of interfaces for tables in the `net.imagej.table` package. The base interface is `Table`, which is a `List` of typed `Column`s. These columns offer improved type safety and storage efficiency over the \"maps\" and \"list of maps\" approaches shown above. ImageJ provides several built-in sorts of columns backed by SciJava's `PrimitiveArray` utility classes; for example, `DoubleColumn` is a column backed by a `DoubleArray`, which is in turn backed by a `double[]` which grows dynamically as needed.\n",
    "\n",
    "To illustrate this structure, here is an example which creates a small ImageJ table from scratch:"
   ]
  },
  {
   "cell_type": "code",
   "execution_count": 8,
   "metadata": {
    "collapsed": false,
    "scrolled": true
   },
   "outputs": [
    {
     "data": {
      "text/html": [
       "<style>table.converted {color: #333; font-family: Helvetica, Arial, sans-serif; border-collapse: collapse; border-spacing: 0;}table.converted td, table.converted th {border: 1px solid #C9C7C7;}table.converted th, table.converted td.rowLabel {background: #626262; color: #FFFFFF; font-weight: bold; text-align: left;}table.converted td {text-align: left;}table.converted tr:nth-child(even) {background: #F3F3F3;}table.converted tr:nth-child(odd) {background: #FFFFFF;}table.converted tbody tr:hover {background: #BDF4B5;}table.converted td.rowLabel, table.converted th.rowLabel {display: none;}</style><table class =\"converted\"><thead><tr><th class=\"rowLabel\">&nbsp;</th><th>Town</th><th>Population</th></tr></thead><tbody><tr><td class =\"rowLabel\">&nbsp;</td><td>Shanghai</td><td>2&#8203;.42568E7</td><tr><td class =\"rowLabel\">&nbsp;</td><td>Karachi</td><td>2&#8203;.35E7</td><tr><td class =\"rowLabel\">&nbsp;</td><td>Bejing</td><td>2&#8203;.1516E7</td><tr><td class =\"rowLabel\">&nbsp;</td><td>Sao Paolo</td><td>2&#8203;.1292893E7</td></tbody></table>"
      ]
     },
     "execution_count": 8,
     "metadata": {},
     "output_type": "execute_result"
    }
   ],
   "source": [
    "import net.imagej.table.DoubleColumn\n",
    "import net.imagej.table.GenericColumn\n",
    "import net.imagej.table.DefaultGenericTable\n",
    "\n",
    "// Create two columns.\n",
    "nameColumn = new GenericColumn(\"Town\")\n",
    "populationColumn = new DoubleColumn(\"Population\")\n",
    "\n",
    "// Fill the columns with information about the largest towns in the world.\n",
    "nameColumn.add(\"Karachi\")\n",
    "populationColumn.add(23500000d)\n",
    "nameColumn.add(\"Bejing\")\n",
    "populationColumn.add(21516000d)\n",
    "nameColumn.add(\"Sao Paolo\")\n",
    "populationColumn.add(21292893d)\n",
    "\n",
    "// But actually, the largest town is Shanghai,\n",
    "// so let's add it at the beginning of the table.\n",
    "nameColumn.add(0, \"Shanghai\")\n",
    "populationColumn.add(0, 24256800d)\n",
    "\n",
    "// Create the table.\n",
    "table = new DefaultGenericTable()\n",
    "table.add(nameColumn)\n",
    "table.add(populationColumn)\n",
    "\n",
    "table"
   ]
  },
  {
   "cell_type": "markdown",
   "metadata": {},
   "source": [
    "Here is another way to create a table, using the `set(int col, int row, T value)` method:"
   ]
  },
  {
   "cell_type": "code",
   "execution_count": 50,
   "metadata": {
    "collapsed": false
   },
   "outputs": [
    {
     "data": {
      "text/html": [
       "<style>table.converted {color: #333; font-family: Helvetica, Arial, sans-serif; border-collapse: collapse; border-spacing: 0;}table.converted td, table.converted th {border: 1px solid #C9C7C7;}table.converted th, table.converted td.rowLabel {background: #626262; color: #FFFFFF; font-weight: bold; text-align: left;}table.converted td {text-align: left;}table.converted tr:nth-child(even) {background: #F3F3F3;}table.converted tr:nth-child(odd) {background: #FFFFFF;}table.converted tbody tr:hover {background: #BDF4B5;}table.converted td.rowLabel, table.converted th.rowLabel {display: none;}</style><table class =\"converted\"><thead><tr><th class=\"rowLabel\">&nbsp;</th><th>A</th><th>B</th><th>C</th><th>D</th><th>E</th><th>F</th><th>G</th></tr></thead><tbody><tr><td class =\"rowLabel\">&nbsp;</td><td>A1</td><td>B1</td><td>C1</td><td>D1</td><td>E1</td><td>F1</td><td>G1</td><tr><td class =\"rowLabel\">&nbsp;</td><td>A2</td><td>B2</td><td>C2</td><td>D2</td><td>E2</td><td>F2</td><td>G2</td><tr><td class =\"rowLabel\">&nbsp;</td><td>A3</td><td>B3</td><td>C3</td><td>D3</td><td>E3</td><td>F3</td><td>G3</td><tr><td class =\"rowLabel\">&nbsp;</td><td>A4</td><td>B4</td><td>C4</td><td>D4</td><td>E4</td><td>F4</td><td>G4</td><tr><td class =\"rowLabel\">&nbsp;</td><td>A5</td><td>B5</td><td>C5</td><td>D5</td><td>E5</td><td>F5</td><td>G5</td></tbody></table>"
      ]
     },
     "execution_count": 50,
     "metadata": {},
     "output_type": "execute_result"
    }
   ],
   "source": [
    "import net.imagej.table.DefaultGenericTable\n",
    "colCount = 7\n",
    "rowCount = 5\n",
    "spreadsheet = new DefaultGenericTable(colCount, rowCount)\n",
    "for (col = 0; col < colCount; col++) {\n",
    "    letter = (char) ((int) 'A' + col)\n",
    "    spreadsheet.setColumnHeader(col, \"\" + letter)\n",
    "    for (row = 0; row < rowCount; row++) {\n",
    "        data = \"\" + letter + (row + 1)\n",
    "        spreadsheet.set(col, row, data)\n",
    "    }\n",
    "}\n",
    "spreadsheet"
   ]
  },
  {
   "cell_type": "markdown",
   "metadata": {},
   "source": [
    "When created this way, the columns are all `GenericColumn` instances:"
   ]
  },
  {
   "cell_type": "code",
   "execution_count": 58,
   "metadata": {
    "collapsed": false
   },
   "outputs": [
    {
     "data": {
      "text/html": [
       "<style>table.converted {color: #333; font-family: Helvetica, Arial, sans-serif; border-collapse: collapse; border-spacing: 0;}table.converted td, table.converted th {border: 1px solid #C9C7C7;}table.converted th, table.converted td.rowLabel {background: #626262; color: #FFFFFF; font-weight: bold; text-align: left;}table.converted td {text-align: left;}table.converted tr:nth-child(even) {background: #F3F3F3;}table.converted tr:nth-child(odd) {background: #FFFFFF;}table.converted tbody tr:hover {background: #BDF4B5;}table.converted td.rowLabel, table.converted th.rowLabel {display: none;}</style><table class =\"converted\"><thead><tr><th>Header</th><th>Column type</th><th>Data type</th></tr></thead><tbody><tr><td>A</td><td>net&#8203;.imagej&#8203;.table&#8203;.GenericColumn</td><td>class java&#8203;.lang&#8203;.Object</td></tr><tr><td>B</td><td>net&#8203;.imagej&#8203;.table&#8203;.GenericColumn</td><td>class java&#8203;.lang&#8203;.Object</td></tr><tr><td>C</td><td>net&#8203;.imagej&#8203;.table&#8203;.GenericColumn</td><td>class java&#8203;.lang&#8203;.Object</td></tr><tr><td>D</td><td>net&#8203;.imagej&#8203;.table&#8203;.GenericColumn</td><td>class java&#8203;.lang&#8203;.Object</td></tr><tr><td>E</td><td>net&#8203;.imagej&#8203;.table&#8203;.GenericColumn</td><td>class java&#8203;.lang&#8203;.Object</td></tr><tr><td>F</td><td>net&#8203;.imagej&#8203;.table&#8203;.GenericColumn</td><td>class java&#8203;.lang&#8203;.Object</td></tr><tr><td>G</td><td>net&#8203;.imagej&#8203;.table&#8203;.GenericColumn</td><td>class java&#8203;.lang&#8203;.Object</td></tr></tbody></table>"
      ]
     },
     "execution_count": 58,
     "metadata": {},
     "output_type": "execute_result"
    }
   ],
   "source": [
    "spreadsheet.stream().map{column -> [\n",
    "    \"Header\": column.getHeader(),\n",
    "    \"Column type\": column.getClass().getName(),\n",
    "    \"Data type\": column.getType()\n",
    "]}.collect()"
   ]
  },
  {
   "cell_type": "markdown",
   "metadata": {},
   "source": [
    "`GenericColumn` stores each table cell as an `Object`. For better space performance, it is encouraged to instead use column types with efficient storage as appropriate. For example, if you know a column will consist only of `short` values, then use a `ShortColumn`."
   ]
  },
  {
   "cell_type": "markdown",
   "metadata": {},
   "source": [
    "### Reading information from tables"
   ]
  },
  {
   "cell_type": "markdown",
   "metadata": {},
   "source": [
    "Read out the header of the second column:"
   ]
  },
  {
   "cell_type": "code",
   "execution_count": 26,
   "metadata": {
    "collapsed": false
   },
   "outputs": [
    {
     "data": {
      "text/plain": [
       "Population"
      ]
     },
     "execution_count": 26,
     "metadata": {},
     "output_type": "execute_result"
    }
   ],
   "source": [
    "header = table.get(1).getHeader()"
   ]
  },
  {
   "cell_type": "markdown",
   "metadata": {},
   "source": [
    "Get a certain column."
   ]
  },
  {
   "cell_type": "code",
   "execution_count": 27,
   "metadata": {
    "collapsed": false
   },
   "outputs": [
    {
     "data": {
      "text/html": [
       "<style>table.converted {color: #333; font-family: Helvetica, Arial, sans-serif; border-collapse: collapse; border-spacing: 0;}table.converted td, table.converted th {border: 1px solid #C9C7C7;}table.converted th, table.converted td.rowLabel {background: #626262; color: #FFFFFF; font-weight: bold; text-align: left;}table.converted td {text-align: left;}table.converted tr:nth-child(even) {background: #F3F3F3;}table.converted tr:nth-child(odd) {background: #FFFFFF;}table.converted tbody tr:hover {background: #BDF4B5;}table.converted td.rowLabel, table.converted th.rowLabel {display: none;}</style><table class=\"converted\"><tbody><tr><td>2&#8203;.42568E7</td></tr><tr><td>2&#8203;.35E7</td></tr><tr><td>2&#8203;.1516E7</td></tr><tr><td>2&#8203;.1292893E7</td></tr></tbody></table>"
      ]
     },
     "execution_count": 27,
     "metadata": {},
     "output_type": "execute_result"
    }
   ],
   "source": [
    "populationColumn = table.get(\"Population\")"
   ]
  },
  {
   "cell_type": "markdown",
   "metadata": {},
   "source": [
    "Get a value from the first line in the column."
   ]
  },
  {
   "cell_type": "code",
   "execution_count": 28,
   "metadata": {
    "collapsed": false
   },
   "outputs": [
    {
     "data": {
      "text/html": [
       "2&#8203;.42568E7"
      ]
     },
     "execution_count": 28,
     "metadata": {},
     "output_type": "execute_result"
    }
   ],
   "source": [
    "populationOfLargestTown = populationColumn.get(0)"
   ]
  },
  {
   "cell_type": "markdown",
   "metadata": {},
   "source": [
    "### List of `Table` API methods"
   ]
  },
  {
   "cell_type": "markdown",
   "metadata": {},
   "source": [
    "The `Table` interface provides many convenience methods. Here is a complete list:"
   ]
  },
  {
   "cell_type": "code",
   "execution_count": 25,
   "metadata": {
    "collapsed": false
   },
   "outputs": [
    {
     "data": {
      "text/html": [
       "<style>table.converted {color: #333; font-family: Helvetica, Arial, sans-serif; border-collapse: collapse; border-spacing: 0;}table.converted td, table.converted th {border: 1px solid #C9C7C7;}table.converted th, table.converted td.rowLabel {background: #626262; color: #FFFFFF; font-weight: bold; text-align: left;}table.converted td {text-align: left;}table.converted tr:nth-child(even) {background: #F3F3F3;}table.converted tr:nth-child(odd) {background: #FFFFFF;}table.converted tbody tr:hover {background: #BDF4B5;}table.converted td.rowLabel, table.converted th.rowLabel {display: none;}</style><table class =\"converted\"><thead><tr><th>name</th><th>arguments</th><th>returns</th></tr></thead><tbody><tr><td>add</td><td>java&#8203;.lang&#8203;.Object</td><td>boolean</td></tr><tr><td>add</td><td>net&#8203;.imagej&#8203;.table&#8203;.Column</td><td>boolean</td></tr><tr><td>add</td><td>int, java&#8203;.lang&#8203;.Object</td><td>void</td></tr><tr><td>add</td><td>int, net&#8203;.imagej&#8203;.table&#8203;.Column</td><td>void</td></tr><tr><td>addAll</td><td>java&#8203;.util&#8203;.Collection</td><td>boolean</td></tr><tr><td>addAll</td><td>int, java&#8203;.util&#8203;.Collection</td><td>boolean</td></tr><tr><td>appendColumn</td><td>&lt;none&gt;</td><td>net&#8203;.imagej&#8203;.table&#8203;.Column</td></tr><tr><td>appendColumn</td><td>java&#8203;.lang&#8203;.String</td><td>net&#8203;.imagej&#8203;.table&#8203;.Column</td></tr><tr><td>appendColumns</td><td>[Ljava&#8203;.lang&#8203;.String;</td><td>java&#8203;.util&#8203;.ArrayList</td></tr><tr><td>appendColumns</td><td>[Ljava&#8203;.lang&#8203;.String;</td><td>java&#8203;.util&#8203;.List</td></tr><tr><td>appendColumns</td><td>int</td><td>java&#8203;.util&#8203;.ArrayList</td></tr><tr><td>appendColumns</td><td>int</td><td>java&#8203;.util&#8203;.List</td></tr><tr><td>appendRow</td><td>&lt;none&gt;</td><td>void</td></tr><tr><td>appendRow</td><td>java&#8203;.lang&#8203;.String</td><td>void</td></tr><tr><td>appendRows</td><td>[Ljava&#8203;.lang&#8203;.String;</td><td>void</td></tr><tr><td>appendRows</td><td>int</td><td>void</td></tr><tr><td>clear</td><td>&lt;none&gt;</td><td>void</td></tr><tr><td>clone</td><td>&lt;none&gt;</td><td>java&#8203;.lang&#8203;.Object</td></tr><tr><td>contains</td><td>java&#8203;.lang&#8203;.Object</td><td>boolean</td></tr><tr><td>containsAll</td><td>java&#8203;.util&#8203;.Collection</td><td>boolean</td></tr><tr><td>ensureCapacity</td><td>int</td><td>void</td></tr><tr><td>equals</td><td>java&#8203;.lang&#8203;.Object</td><td>boolean</td></tr><tr><td>forEach</td><td>java&#8203;.util&#8203;.function&#8203;.Consumer</td><td>void</td></tr><tr><td>get</td><td>int</td><td>java&#8203;.lang&#8203;.Object</td></tr><tr><td>get</td><td>int</td><td>net&#8203;.imagej&#8203;.table&#8203;.Column</td></tr><tr><td>get</td><td>java&#8203;.lang&#8203;.String</td><td>net&#8203;.imagej&#8203;.table&#8203;.Column</td></tr><tr><td>get</td><td>int, int</td><td>java&#8203;.lang&#8203;.Object</td></tr><tr><td>get</td><td>java&#8203;.lang&#8203;.String, int</td><td>java&#8203;.lang&#8203;.Object</td></tr><tr><td>getClass</td><td>&lt;none&gt;</td><td>java&#8203;.lang&#8203;.Class</td></tr><tr><td>getColumnCount</td><td>&lt;none&gt;</td><td>int</td></tr><tr><td>getColumnHeader</td><td>int</td><td>java&#8203;.lang&#8203;.String</td></tr><tr><td>getColumnIndex</td><td>java&#8203;.lang&#8203;.String</td><td>int</td></tr><tr><td>getRowCount</td><td>&lt;none&gt;</td><td>int</td></tr><tr><td>getRowHeader</td><td>int</td><td>java&#8203;.lang&#8203;.String</td></tr><tr><td>getRowIndex</td><td>java&#8203;.lang&#8203;.String</td><td>int</td></tr><tr><td>hashCode</td><td>&lt;none&gt;</td><td>int</td></tr><tr><td>indexOf</td><td>java&#8203;.lang&#8203;.Object</td><td>int</td></tr><tr><td>insertColumn</td><td>int</td><td>net&#8203;.imagej&#8203;.table&#8203;.Column</td></tr><tr><td>insertColumn</td><td>int, java&#8203;.lang&#8203;.String</td><td>net&#8203;.imagej&#8203;.table&#8203;.Column</td></tr><tr><td>insertColumns</td><td>int, [Ljava&#8203;.lang&#8203;.String;</td><td>java&#8203;.util&#8203;.ArrayList</td></tr><tr><td>insertColumns</td><td>int, [Ljava&#8203;.lang&#8203;.String;</td><td>java&#8203;.util&#8203;.List</td></tr><tr><td>insertColumns</td><td>int, int</td><td>java&#8203;.util&#8203;.ArrayList</td></tr><tr><td>insertColumns</td><td>int, int</td><td>java&#8203;.util&#8203;.List</td></tr><tr><td>insertRow</td><td>int</td><td>void</td></tr><tr><td>insertRow</td><td>int, java&#8203;.lang&#8203;.String</td><td>void</td></tr><tr><td>insertRows</td><td>int, [Ljava&#8203;.lang&#8203;.String;</td><td>void</td></tr><tr><td>insertRows</td><td>int, int</td><td>void</td></tr><tr><td>isEmpty</td><td>&lt;none&gt;</td><td>boolean</td></tr><tr><td>iterator</td><td>&lt;none&gt;</td><td>java&#8203;.util&#8203;.Iterator</td></tr><tr><td>lastIndexOf</td><td>java&#8203;.lang&#8203;.Object</td><td>int</td></tr><tr><td>listIterator</td><td>&lt;none&gt;</td><td>java&#8203;.util&#8203;.ListIterator</td></tr><tr><td>listIterator</td><td>int</td><td>java&#8203;.util&#8203;.ListIterator</td></tr><tr><td>notify</td><td>&lt;none&gt;</td><td>void</td></tr><tr><td>notifyAll</td><td>&lt;none&gt;</td><td>void</td></tr><tr><td>parallelStream</td><td>&lt;none&gt;</td><td>java&#8203;.util&#8203;.stream&#8203;.Stream</td></tr><tr><td>remove</td><td>int</td><td>java&#8203;.lang&#8203;.Object</td></tr><tr><td>remove</td><td>int</td><td>net&#8203;.imagej&#8203;.table&#8203;.Column</td></tr><tr><td>remove</td><td>java&#8203;.lang&#8203;.Object</td><td>boolean</td></tr><tr><td>removeAll</td><td>java&#8203;.util&#8203;.Collection</td><td>boolean</td></tr><tr><td>removeColumn</td><td>int</td><td>net&#8203;.imagej&#8203;.table&#8203;.Column</td></tr><tr><td>removeColumn</td><td>java&#8203;.lang&#8203;.String</td><td>net&#8203;.imagej&#8203;.table&#8203;.Column</td></tr><tr><td>removeColumns</td><td>[Ljava&#8203;.lang&#8203;.String;</td><td>java&#8203;.util&#8203;.ArrayList</td></tr><tr><td>removeColumns</td><td>[Ljava&#8203;.lang&#8203;.String;</td><td>java&#8203;.util&#8203;.List</td></tr><tr><td>removeColumns</td><td>int, int</td><td>java&#8203;.util&#8203;.ArrayList</td></tr><tr><td>removeColumns</td><td>int, int</td><td>java&#8203;.util&#8203;.List</td></tr><tr><td>removeIf</td><td>java&#8203;.util&#8203;.function&#8203;.Predicate</td><td>boolean</td></tr><tr><td>removeRow</td><td>int</td><td>void</td></tr><tr><td>removeRow</td><td>java&#8203;.lang&#8203;.String</td><td>void</td></tr><tr><td>removeRows</td><td>[Ljava&#8203;.lang&#8203;.String;</td><td>void</td></tr><tr><td>removeRows</td><td>int, int</td><td>void</td></tr><tr><td>replaceAll</td><td>java&#8203;.util&#8203;.function&#8203;.UnaryOperator</td><td>void</td></tr><tr><td>retainAll</td><td>java&#8203;.util&#8203;.Collection</td><td>boolean</td></tr><tr><td>set</td><td>int, java&#8203;.lang&#8203;.Object</td><td>java&#8203;.lang&#8203;.Object</td></tr><tr><td>set</td><td>int, net&#8203;.imagej&#8203;.table&#8203;.Column</td><td>net&#8203;.imagej&#8203;.table&#8203;.Column</td></tr><tr><td>set</td><td>int, int, java&#8203;.lang&#8203;.Object</td><td>void</td></tr><tr><td>set</td><td>java&#8203;.lang&#8203;.String, int, java&#8203;.lang&#8203;.Object</td><td>void</td></tr><tr><td>setColumnCount</td><td>int</td><td>void</td></tr><tr><td>setColumnHeader</td><td>int, java&#8203;.lang&#8203;.String</td><td>void</td></tr><tr><td>setDimensions</td><td>int, int</td><td>void</td></tr><tr><td>setRowCount</td><td>int</td><td>void</td></tr><tr><td>setRowHeader</td><td>int, java&#8203;.lang&#8203;.String</td><td>void</td></tr><tr><td>setSize</td><td>int</td><td>void</td></tr><tr><td>size</td><td>&lt;none&gt;</td><td>int</td></tr><tr><td>sort</td><td>java&#8203;.util&#8203;.Comparator</td><td>void</td></tr><tr><td>spliterator</td><td>&lt;none&gt;</td><td>java&#8203;.util&#8203;.Spliterator</td></tr><tr><td>stream</td><td>&lt;none&gt;</td><td>java&#8203;.util&#8203;.stream&#8203;.Stream</td></tr><tr><td>subList</td><td>int, int</td><td>java&#8203;.util&#8203;.List</td></tr><tr><td>toArray</td><td>&lt;none&gt;</td><td>[Ljava&#8203;.lang&#8203;.Object;</td></tr><tr><td>toArray</td><td>[Ljava&#8203;.lang&#8203;.Object;</td><td>[Ljava&#8203;.lang&#8203;.Object;</td></tr><tr><td>toString</td><td>&lt;none&gt;</td><td>java&#8203;.lang&#8203;.String</td></tr><tr><td>trimToSize</td><td>&lt;none&gt;</td><td>void</td></tr><tr><td>wait</td><td>&lt;none&gt;</td><td>void</td></tr><tr><td>wait</td><td>long</td><td>void</td></tr><tr><td>wait</td><td>long, int</td><td>void</td></tr></tbody></table>"
      ]
     },
     "execution_count": 25,
     "metadata": {},
     "output_type": "execute_result"
    }
   ],
   "source": [
    "ij.notebook().methods(table)"
   ]
  }
 ],
 "metadata": {
  "kernelspec": {
   "display_name": "SciJava",
   "language": "groovy",
   "name": "scijava"
  },
  "language_info": {
   "codemirror_mode": "groovy",
   "file_extension": "",
   "mimetype": "",
   "name": "scijava",
   "nbconverter_exporter": "",
   "pygments_lexer": "groovy",
   "version": "1.0"
  }
 },
 "nbformat": 4,
 "nbformat_minor": 2
}
